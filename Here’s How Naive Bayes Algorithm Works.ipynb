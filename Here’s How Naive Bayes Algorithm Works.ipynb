{
 "cells": [
  {
   "cell_type": "code",
   "execution_count": 9,
   "id": "9bfad528",
   "metadata": {},
   "outputs": [
    {
     "name": "stdout",
     "output_type": "stream",
     "text": [
      "Requirement already satisfied: sklearn in c:\\users\\hp\\anaconda3\\lib\\site-packages (0.0)\n",
      "Requirement already satisfied: scikit-learn in c:\\users\\hp\\anaconda3\\lib\\site-packages (from sklearn) (1.0.2)\n",
      "Requirement already satisfied: numpy>=1.14.6 in c:\\users\\hp\\appdata\\roaming\\python\\python39\\site-packages (from scikit-learn->sklearn) (1.21.2)\n",
      "Requirement already satisfied: threadpoolctl>=2.0.0 in c:\\users\\hp\\anaconda3\\lib\\site-packages (from scikit-learn->sklearn) (2.2.0)\n",
      "Requirement already satisfied: scipy>=1.1.0 in c:\\users\\hp\\appdata\\roaming\\python\\python39\\site-packages (from scikit-learn->sklearn) (1.7.1)\n",
      "Requirement already satisfied: joblib>=0.11 in c:\\users\\hp\\anaconda3\\lib\\site-packages (from scikit-learn->sklearn) (1.1.0)\n"
     ]
    }
   ],
   "source": [
    "!pip install sklearn"
   ]
  },
  {
   "cell_type": "code",
   "execution_count": 14,
   "id": "ccfe48a2",
   "metadata": {},
   "outputs": [],
   "source": [
    "import pandas as pd\n",
    "import sklearn\n",
    "from sklearn.model_selection import train_test_split\n",
    "from sklearn.naive_bayes import MultinomialNB\n",
    "from sklearn.metrics import accuracy_score"
   ]
  },
  {
   "cell_type": "code",
   "execution_count": 15,
   "id": "614b759b",
   "metadata": {},
   "outputs": [],
   "source": [
    "#sample movie data with genre tags and user ratings\n"
   ]
  },
  {
   "cell_type": "code",
   "execution_count": 16,
   "id": "3339efd8",
   "metadata": {},
   "outputs": [
    {
     "name": "stdout",
     "output_type": "stream",
     "text": [
      "  movie_title  genre_action  genre_adventure  genre_comedy  genre_drama  \\\n",
      "0     Movie A             1                1             0            0   \n",
      "1     Movie B             1                0             1            0   \n",
      "2     Movie C             0                1             1            0   \n",
      "3     Movie D             1                0             0            1   \n",
      "4     Movie E             0                1             0            1   \n",
      "\n",
      "   user_rating  \n",
      "0            5  \n",
      "1            4  \n",
      "2            3  \n",
      "3            2  \n",
      "4            1  \n"
     ]
    }
   ],
   "source": [
    "movies= pd.DataFrame({\n",
    "    'movie_title':['Movie A','Movie B','Movie C','Movie D', 'Movie E'],\n",
    "    'genre_action':[1,1,0,1,0],\n",
    "    'genre_adventure': [1, 0, 1, 0, 1],\n",
    "    'genre_comedy':[0,1,1,0,0],\n",
    "    'genre_drama':[0,0,0,1,1],\n",
    "    'user_rating':[5,4,3,2,1]\n",
    "})\n",
    "print(movies)"
   ]
  },
  {
   "cell_type": "code",
   "execution_count": 17,
   "id": "530c7073",
   "metadata": {},
   "outputs": [
    {
     "data": {
      "text/html": [
       "<div>\n",
       "<style scoped>\n",
       "    .dataframe tbody tr th:only-of-type {\n",
       "        vertical-align: middle;\n",
       "    }\n",
       "\n",
       "    .dataframe tbody tr th {\n",
       "        vertical-align: top;\n",
       "    }\n",
       "\n",
       "    .dataframe thead th {\n",
       "        text-align: right;\n",
       "    }\n",
       "</style>\n",
       "<table border=\"1\" class=\"dataframe\">\n",
       "  <thead>\n",
       "    <tr style=\"text-align: right;\">\n",
       "      <th></th>\n",
       "      <th>movie_title</th>\n",
       "      <th>genre_action</th>\n",
       "      <th>genre_adventure</th>\n",
       "      <th>genre_comedy</th>\n",
       "      <th>genre_drama</th>\n",
       "      <th>user_rating</th>\n",
       "    </tr>\n",
       "  </thead>\n",
       "  <tbody>\n",
       "    <tr>\n",
       "      <th>0</th>\n",
       "      <td>Movie A</td>\n",
       "      <td>1</td>\n",
       "      <td>1</td>\n",
       "      <td>0</td>\n",
       "      <td>0</td>\n",
       "      <td>5</td>\n",
       "    </tr>\n",
       "    <tr>\n",
       "      <th>1</th>\n",
       "      <td>Movie B</td>\n",
       "      <td>1</td>\n",
       "      <td>0</td>\n",
       "      <td>1</td>\n",
       "      <td>0</td>\n",
       "      <td>4</td>\n",
       "    </tr>\n",
       "    <tr>\n",
       "      <th>2</th>\n",
       "      <td>Movie C</td>\n",
       "      <td>0</td>\n",
       "      <td>1</td>\n",
       "      <td>1</td>\n",
       "      <td>0</td>\n",
       "      <td>3</td>\n",
       "    </tr>\n",
       "    <tr>\n",
       "      <th>3</th>\n",
       "      <td>Movie D</td>\n",
       "      <td>1</td>\n",
       "      <td>0</td>\n",
       "      <td>0</td>\n",
       "      <td>1</td>\n",
       "      <td>2</td>\n",
       "    </tr>\n",
       "    <tr>\n",
       "      <th>4</th>\n",
       "      <td>Movie E</td>\n",
       "      <td>0</td>\n",
       "      <td>1</td>\n",
       "      <td>0</td>\n",
       "      <td>1</td>\n",
       "      <td>1</td>\n",
       "    </tr>\n",
       "  </tbody>\n",
       "</table>\n",
       "</div>"
      ],
      "text/plain": [
       "  movie_title  genre_action  genre_adventure  genre_comedy  genre_drama  \\\n",
       "0     Movie A             1                1             0            0   \n",
       "1     Movie B             1                0             1            0   \n",
       "2     Movie C             0                1             1            0   \n",
       "3     Movie D             1                0             0            1   \n",
       "4     Movie E             0                1             0            1   \n",
       "\n",
       "   user_rating  \n",
       "0            5  \n",
       "1            4  \n",
       "2            3  \n",
       "3            2  \n",
       "4            1  "
      ]
     },
     "execution_count": 17,
     "metadata": {},
     "output_type": "execute_result"
    }
   ],
   "source": [
    "movies.head()"
   ]
  },
  {
   "cell_type": "code",
   "execution_count": 19,
   "id": "bfa24c04",
   "metadata": {},
   "outputs": [
    {
     "data": {
      "text/plain": [
       "MultinomialNB()"
      ]
     },
     "execution_count": 19,
     "metadata": {},
     "output_type": "execute_result"
    }
   ],
   "source": [
    "#split the data into features(genre tages)and labels(user ratings)\n",
    "x=movies.drop(['movie_title','user_rating'],axis=1)\n",
    "y=movies['user_rating']\n",
    "#training the model\n",
    "clf=MultinomialNB()\n",
    "clf.fit(x,y)"
   ]
  },
  {
   "cell_type": "code",
   "execution_count": 20,
   "id": "6ac0c1de",
   "metadata": {},
   "outputs": [
    {
     "name": "stdout",
     "output_type": "stream",
     "text": [
      "Predicted User rating for the new Movie: 5\n"
     ]
    }
   ],
   "source": [
    "new_movies=pd.DataFrame({\n",
    "    'genre_action':[1],\n",
    "    'genre_adventure':[1],\n",
    "    'genre_comedy':[0],\n",
    "    'genre_drama':[0]\n",
    "})\n",
    "user_rating_pred= clf.predict(new_movies)\n",
    "print(\"Predicted User rating for the new Movie:\",user_rating_pred[0])"
   ]
  },
  {
   "cell_type": "code",
   "execution_count": null,
   "id": "d67e2786",
   "metadata": {},
   "outputs": [],
   "source": []
  }
 ],
 "metadata": {
  "kernelspec": {
   "display_name": "Python 3 (ipykernel)",
   "language": "python",
   "name": "python3"
  },
  "language_info": {
   "codemirror_mode": {
    "name": "ipython",
    "version": 3
   },
   "file_extension": ".py",
   "mimetype": "text/x-python",
   "name": "python",
   "nbconvert_exporter": "python",
   "pygments_lexer": "ipython3",
   "version": "3.9.12"
  }
 },
 "nbformat": 4,
 "nbformat_minor": 5
}
